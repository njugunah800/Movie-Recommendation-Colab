{
  "nbformat": 4,
  "nbformat_minor": 0,
  "metadata": {
    "colab": {
      "provenance": [],
      "authorship_tag": "ABX9TyOjvjA5sxHkvlwEZERW/nHl",
      "include_colab_link": true
    },
    "kernelspec": {
      "name": "python3",
      "display_name": "Python 3"
    },
    "language_info": {
      "name": "python"
    }
  },
  "cells": [
    {
      "cell_type": "markdown",
      "metadata": {
        "id": "view-in-github",
        "colab_type": "text"
      },
      "source": [
        "<a href=\"https://colab.research.google.com/github/njugunah800/Movie-Recommendation-Colab/blob/main/Movie_Recommendation.ipynb\" target=\"_parent\"><img src=\"https://colab.research.google.com/assets/colab-badge.svg\" alt=\"Open In Colab\"/></a>"
      ]
    },
    {
      "cell_type": "code",
      "execution_count": null,
      "metadata": {
        "colab": {
          "base_uri": "https://localhost:8080/"
        },
        "id": "d-H53i8VIVcx",
        "outputId": "fb268df3-3f6f-4045-e3ee-4ad61b447142"
      },
      "outputs": [
        {
          "output_type": "stream",
          "name": "stdout",
          "text": [
            "movies.csv generated successfully!\n",
            "Random Movie Pick: Dune: Part Two\n",
            "Recommended Movies:\n",
            "5                               Avatar 3\n",
            "7                   Fantastic Four (MCU)\n",
            "1                             Deadpool 3\n",
            "4    Spider-Man: Beyond the Spider-Verse\n",
            "8                   John Wick: Chapter 5\n",
            "Name: title, dtype: object\n"
          ]
        }
      ],
      "source": [
        "import pandas as pd\n",
        "import random\n",
        "\n",
        "# Sample latest movies dataset (Replace with API data for real-time updates)\n",
        "latest_movies = [\n",
        "    {\"title\": \"Dune: Part Two\", \"genres\": \"Action, Sci-Fi, Adventure\" \"series, Lucifer, Shadowhunters\"},\n",
        "    {\"title\": \"Deadpool 3\", \"genres\": \"Action, Comedy, Sci-Fi\"},\n",
        "    {\"title\": \"Mission: Impossible - Dead Reckoning Part Two\", \"genres\": \"Action, Thriller, Spy \"Series, Stranger things, The Chi\"},\n",
        "    {\"title\": \"Joker: Folie à Deux\", \"genres\": \"Drama, Crime, Thriller\"},\n",
        "    {\"title\": \"Spider-Man: Beyond the Spider-Verse\", \"genres\": \"Animation, Action, Adventure \"Series, All American, Wednesday \"},\n",
        "    {\"title\": \"Avatar 3\", \"genres\": \"Sci-Fi, Adventure, Fantasy\"},\n",
        "    {\"title\": \"The Batman 2\", \"genres\": \"Action, Crime, Drama\"},\n",
        "    {\"title\": \"Fantastic Four (MCU)\", \"genres\": \"Action, Sci-Fi, Superhero\"},\n",
        "    {\"title\": \"John Wick: Chapter 5\", \"genres\": \"Action, Thriller\"},\n",
        "    {\"title\": \"Blade (MCU)\", \"genres\": \"Action, Horror, Superhero\"}\n",
        "]\n",
        "\n",
        "# Convert to DataFrame\n",
        "movies_df = pd.DataFrame(latest_movies)\n",
        "\n",
        "# Save to CSV\n",
        "movies_df.to_csv(\"movies.csv\", index=False)\n",
        "print(\"movies.csv generated successfully!\")\n",
        "\n",
        "# Load dataset\n",
        "movies = pd.read_csv('movies.csv')  # Ensure CSV has 'title' and 'genres' columns\n",
        "\n",
        "# Fill missing values\n",
        "movies['genres'] = movies['genres'].fillna('')\n",
        "\n",
        "# Convert genres to a matrix of token counts\n",
        "from sklearn.feature_extraction.text import TfidfVectorizer\n",
        "from sklearn.metrics.pairwise import cosine_similarity\n",
        "\n",
        "vectorizer = TfidfVectorizer(stop_words='english')\n",
        "tfidf_matrix = vectorizer.fit_transform(movies['genres'])\n",
        "\n",
        "# Compute cosine similarity matrix\n",
        "cosine_sim = cosine_similarity(tfidf_matrix, tfidf_matrix)\n",
        "\n",
        "# Function to get recommendations\n",
        "def get_recommendations(movie_title, movies_df, similarity_matrix):\n",
        "    idx = movies_df[movies_df['title'] == movie_title].index[0]\n",
        "    sim_scores = list(enumerate(similarity_matrix[idx]))\n",
        "    sim_scores = sorted(sim_scores, key=lambda x: x[1], reverse=True)\n",
        "    sim_scores = sim_scores[1:6]  # Top 5 recommendations\n",
        "    movie_indices = [i[0] for i in sim_scores]\n",
        "    return movies_df['title'].iloc[movie_indices]\n",
        "\n",
        "# Example usage\n",
        "movie_name = random.choice(movies['title'])  # Pick a random latest movie\n",
        "recommendations = get_recommendations(movie_name, movies, cosine_sim)\n",
        "print(f\"Random Movie Pick: {movie_name}\")\n",
        "print(\"Recommended Movies:\")\n",
        "print(recommendations)\n"
      ]
    },
    {
      "cell_type": "code",
      "source": [],
      "metadata": {
        "id": "8JLvkrxpIheg"
      },
      "execution_count": null,
      "outputs": []
    },
    {
      "cell_type": "code",
      "source": [
        "import pandas as pd\n",
        "import random\n",
        "\n",
        "# Sample latest movies dataset (Replace with API data for real-time updates)\n",
        "latest_movies = [\n",
        "    {\"title\": \"Dune: Part Two\", \"genres\": \"Action, Sci-Fi, Adventure\"},\n",
        "    {\"title\": \"Deadpool 3\", \"genres\": \"Action, Comedy, Sci-Fi\"},\n",
        "    {\"title\": \"Mission: Impossible - Dead Reckoning Part Two\", \"genres\": \"Action, Thriller, Spy\"},\n",
        "    {\"title\": \"Joker: Folie à Deux\", \"genres\": \"Drama, Crime, Thriller\"},\n",
        "    {\"title\": \"Spider-Man: Beyond the Spider-Verse\", \"genres\": \"Animation, Action, Adventure\"},\n",
        "    {\"title\": \"Avatar 3\", \"genres\": \"Sci-Fi, Adventure, Fantasy\"},\n",
        "    {\"title\": \"The Batman 2\", \"genres\": \"Action, Crime, Drama\"},\n",
        "    {\"title\": \"Fantastic Four (MCU)\", \"genres\": \"Action, Sci-Fi, Superhero\"},\n",
        "    {\"title\": \"John Wick: Chapter 5\", \"genres\": \"Action, Thriller\"},\n",
        "    {\"title\": \"Blade (MCU)\", \"genres\": \"Action, Horror, Superhero\"}\n",
        "]\n",
        "\n",
        "# Convert to DataFrame\n",
        "movies_df = pd.DataFrame(latest_movies)\n",
        "\n",
        "# Save to CSV\n",
        "movies_df.to_csv(\"movies.csv\", index=False)\n",
        "print(\"movies.csv generated successfully!\")\n",
        "\n",
        "# Load dataset\n",
        "movies = pd.read_csv('movies.csv')  # Ensure CSV has 'title' and 'genres' columns\n",
        "\n",
        "# Fill missing values\n",
        "movies['genres'] = movies['genres'].fillna('')\n",
        "\n",
        "# Convert genres to a matrix of token counts\n",
        "from sklearn.feature_extraction.text import TfidfVectorizer\n",
        "from sklearn.metrics.pairwise import cosine_similarity\n",
        "\n",
        "vectorizer = TfidfVectorizer(stop_words='english')\n",
        "tfidf_matrix = vectorizer.fit_transform(movies['genres'])\n",
        "\n",
        "# Compute cosine similarity matrix\n",
        "cosine_sim = cosine_similarity(tfidf_matrix, tfidf_matrix)\n",
        "\n",
        "# Function to get recommendations\n",
        "def get_recommendations(movie_title, movies_df, similarity_matrix):\n",
        "    if movie_title not in movies_df['title'].values:\n",
        "        print(\"Movie not found! Showing random recommendations instead.\")\n",
        "        movie_title = random.choice(movies_df['title'])\n",
        "    idx = movies_df[movies_df['title'] == movie_title].index[0]\n",
        "    sim_scores = list(enumerate(similarity_matrix[idx]))\n",
        "    sim_scores = sorted(sim_scores, key=lambda x: x[1], reverse=True)\n",
        "    sim_scores = sim_scores[1:6]  # Top 5 recommendations\n",
        "    movie_indices = [i[0] for i in sim_scores]\n",
        "    return movie_title, movies_df['title'].iloc[movie_indices]\n",
        "\n",
        "# User input for movie selection\n",
        "movie_name = input(\"Enter a movie name (or press Enter for a random pick): \").strip()\n",
        "if not movie_name:\n",
        "    movie_name = random.choice(movies['title'])\n",
        "\n",
        "selected_movie, recommendations = get_recommendations(movie_name, movies, cosine_sim)\n",
        "print(f\"Selected Movie: {selected_movie}\")\n",
        "print(\"Recommended Movies:\")\n",
        "print(recommendations)\n"
      ],
      "metadata": {
        "colab": {
          "base_uri": "https://localhost:8080/"
        },
        "id": "BRBMWkYyIt9k",
        "outputId": "d1485e6d-0131-41a9-fcb2-b04651fc66ce"
      },
      "execution_count": null,
      "outputs": [
        {
          "output_type": "stream",
          "name": "stdout",
          "text": [
            "movies.csv generated successfully!\n",
            "Enter a movie name (or press Enter for a random pick): stranger things\n",
            "Movie not found! Showing random recommendations instead.\n",
            "Selected Movie: The Batman 2\n",
            "Recommended Movies:\n",
            "3                              Joker: Folie à Deux\n",
            "8                             John Wick: Chapter 5\n",
            "0                                   Dune: Part Two\n",
            "2    Mission: Impossible - Dead Reckoning Part Two\n",
            "4              Spider-Man: Beyond the Spider-Verse\n",
            "Name: title, dtype: object\n"
          ]
        }
      ]
    },
    {
      "cell_type": "code",
      "source": [
        "import requests\n",
        "import pandas as pd\n",
        "import random\n",
        "\n",
        "# TMDb API setup (Get your own API key from https://www.themoviedb.org/)\n",
        "API_KEY = 'your_tmdb_api_key'\n",
        "BASE_URL = 'https://api.themoviedb.org/3'\n",
        "\n",
        "# Function to search for a movie\n",
        "def search_movie(query):\n",
        "    url = f\"{BASE_URL}/search/movie?api_key={API_KEY}&query={query}\"\n",
        "    response = requests.get(url).json()\n",
        "    results = response.get(\"results\", [])\n",
        "    return results[:5]  # Return top 5 search results\n",
        "\n",
        "# Function to get movie recommendations\n",
        "def get_recommendations(movie_id):\n",
        "    url = f\"{BASE_URL}/movie/{movie_id}/recommendations?api_key={API_KEY}\"\n",
        "    response = requests.get(url).json()\n",
        "    results = response.get(\"results\", [])\n",
        "    return [movie[\"title\"] for movie in results[:5]]  # Return top 5 recommendations\n",
        "\n",
        "# User input for movie search\n",
        "movie_name = input(\"Enter a movie name: \").strip()\n",
        "search_results = search_movie(movie_name)\n",
        "\n",
        "if not search_results:\n",
        "    print(\"No movies found! Try a different name.\")\n",
        "else:\n",
        "    print(\"Select a movie:\")\n",
        "    for i, movie in enumerate(search_results):\n",
        "        print(f\"{i + 1}. {movie['title']} ({movie['release_date'][:4] if 'release_date' in movie else 'N/A'})\")\n",
        "    choice = int(input(\"Enter the number of your choice: \")) - 1\n",
        "\n",
        "    if 0 <= choice < len(search_results):\n",
        "        selected_movie = search_results[choice]\n",
        "        print(f\"You selected: {selected_movie['title']}\")\n",
        "        recommendations = get_recommendations(selected_movie['id'])\n",
        "\n",
        "        if recommendations:\n",
        "            print(\"Recommended Movies:\")\n",
        "            for rec in recommendations:\n",
        "                print(f\"- {rec}\")\n",
        "        else:\n",
        "            print(\"No recommendations found for this movie.\")\n",
        "    else:\n",
        "        print(\"Invalid choice! Please try again.\")"
      ],
      "metadata": {
        "colab": {
          "base_uri": "https://localhost:8080/"
        },
        "id": "9iyelYIQJIcy",
        "outputId": "f01ac024-4150-485f-863c-5d6e1a13e885"
      },
      "execution_count": null,
      "outputs": [
        {
          "output_type": "stream",
          "name": "stdout",
          "text": [
            "Enter a movie name: lucifer\n",
            "No movies found! Try a different name.\n"
          ]
        }
      ]
    },
    {
      "cell_type": "code",
      "source": [
        "import requests\n",
        "import pandas as pd\n",
        "import random\n",
        "\n",
        "# TMDb API setup (Get your own API key from https://www.themoviedb.org/)\n",
        "API_KEY = 'your_tmdb_api_key'\n",
        "BASE_URL = 'https://api.themoviedb.org/3'\n",
        "\n",
        "# Function to search for a movie or TV show\n",
        "def search_movie_or_tv(query):\n",
        "    movie_url = f\"{BASE_URL}/search/movie?api_key={API_KEY}&query={query}\"\n",
        "    tv_url = f\"{BASE_URL}/search/tv?api_key={API_KEY}&query={query}\"\n",
        "\n",
        "    movie_results = requests.get(movie_url).json().get(\"results\", [])\n",
        "    tv_results = requests.get(tv_url).json().get(\"results\", [])\n",
        "\n",
        "    results = [(\"movie\", movie) for movie in movie_results[:5]] + [(\"tv\", tv) for tv in tv_results[:5]]\n",
        "    return results  # Return top 5 movies and top 5 TV shows\n",
        "\n",
        "# Function to get recommendations\n",
        "def get_recommendations(content_type, content_id):\n",
        "    url = f\"{BASE_URL}/{content_type}/{content_id}/recommendations?api_key={API_KEY}\"\n",
        "    response = requests.get(url).json()\n",
        "    results = response.get(\"results\", [])\n",
        "    return [content[\"title\"] if content_type == \"movie\" else content[\"name\"] for content in results[:5]]\n",
        "\n",
        "# User input for search\n",
        "query = input(\"Enter a movie or TV show name: \").strip()\n",
        "search_results = search_movie_or_tv(query)\n",
        "\n",
        "if not search_results:\n",
        "    print(\"No movies or TV shows found! Try a different name.\")\n",
        "else:\n",
        "    print(\"Select an option:\")\n",
        "    for i, (content_type, content) in enumerate(search_results):\n",
        "        title = content[\"title\"] if content_type == \"movie\" else content[\"name\"]\n",
        "        year = content.get(\"release_date\", content.get(\"first_air_date\", \"N/A\"))[:4] if \"release_date\" in content or \"first_air_date\" in content else \"N/A\"\n",
        "        print(f\"{i + 1}. {title} ({year}) [{content_type.upper()}]\")\n",
        "\n",
        "    choice = int(input(\"Enter the number of your choice: \")) - 1\n",
        "\n",
        "    if 0 <= choice < len(search_results):\n",
        "        selected_type, selected_content = search_results[choice]\n",
        "        selected_title = selected_content[\"title\"] if selected_type == \"movie\" else selected_content[\"name\"]\n",
        "        print(f\"You selected: {selected_title} [{selected_type.upper()}]\")\n",
        "        recommendations = get_recommendations(selected_type, selected_content['id'])\n",
        "\n",
        "        if recommendations:\n",
        "            print(\"Recommended Movies/TV Shows:\")\n",
        "            for rec in recommendations:\n",
        "                print(f\"- {rec}\")\n",
        "        else:\n",
        "            print(\"No recommendations found for this selection.\")\n",
        "    else:\n",
        "        print(\"Invalid choice! Please try again.\")"
      ],
      "metadata": {
        "colab": {
          "base_uri": "https://localhost:8080/"
        },
        "id": "xKvbHmPCJlmV",
        "outputId": "72b9c30f-e5cd-4d19-9d9d-8e0b22697ded"
      },
      "execution_count": null,
      "outputs": [
        {
          "output_type": "stream",
          "name": "stdout",
          "text": [
            "Enter a movie or TV show name: lucifer\n",
            "No movies or TV shows found! Try a different name.\n"
          ]
        }
      ]
    },
    {
      "cell_type": "code",
      "source": [
        "from google.colab import auth\n",
        "auth.authenticate_user()"
      ],
      "metadata": {
        "id": "Gtb41S5_Xsu4"
      },
      "execution_count": null,
      "outputs": []
    },
    {
      "cell_type": "code",
      "source": [
        "!apt-get install git"
      ],
      "metadata": {
        "colab": {
          "base_uri": "https://localhost:8080/"
        },
        "id": "g3kzual4X1xz",
        "outputId": "e146693d-74ec-4a57-feaa-348b9d11220c"
      },
      "execution_count": null,
      "outputs": [
        {
          "output_type": "stream",
          "name": "stdout",
          "text": [
            "Reading package lists... Done\n",
            "Building dependency tree... Done\n",
            "Reading state information... Done\n",
            "git is already the newest version (1:2.34.1-1ubuntu1.12).\n",
            "0 upgraded, 0 newly installed, 0 to remove and 20 not upgraded.\n"
          ]
        }
      ]
    }
  ]
}